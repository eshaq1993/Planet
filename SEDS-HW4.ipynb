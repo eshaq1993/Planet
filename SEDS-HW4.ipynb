{
 "cells": [
  {
   "cell_type": "code",
   "execution_count": 1,
   "id": "julian-surgeon",
   "metadata": {},
   "outputs": [],
   "source": [
    "from math import sqrt\n",
    "import csv\n",
    "from csv import reader\n",
    "from random import seed\n",
    "from random import randrange\n",
    "import pandas as pd \n",
    "\n"
   ]
  },
  {
   "cell_type": "code",
   "execution_count": 2,
   "id": "composed-spectrum",
   "metadata": {},
   "outputs": [],
   "source": [
    "from knn import k_nearest_neighbors, predict_classification, sorted_neighbors, eucliden_distance, find_optimum_k"
   ]
  },
  {
   "cell_type": "code",
   "execution_count": 17,
   "id": "english-jordan",
   "metadata": {},
   "outputs": [
    {
     "name": "stdout",
     "output_type": "stream",
     "text": [
      "[[0.78, 0.5, 0.0], [0.9, 0.67, 0.0], [0.97, 0.65, 0.0], [1.04, 0.76, 0.0], [1.1, 0.79, 0.0], [0.32, 0.62, 1.0], [0.45, 0.68, 1.0], [0.14, 0.66, 2.0], [0.25, 0.87, 2.0], [0.19, 0.99, 2.0], [0.28, 1.01, 2.0], [0.54, 1.23, 2.0], [0.59, 1.34, 2.0], [0.69, 1.36, 2.0], [0.74, 1.45, 2.0]]\n"
     ]
    }
   ],
   "source": [
    "# Loading the training dataset \n",
    "data = pd.read_csv(\"atomradii.csv\")\n",
    "data.drop('Atom', inplace=True ,axis=1)\n",
    "data['Type'] = data['Type'].map({'PT':0 , 'TM': 1 , \"Alk\": 2})\n",
    "dataset = data.reset_index(drop =True)\n",
    "dataset = dataset.values.tolist()\n",
    "print(dataset)"
   ]
  },
  {
   "cell_type": "code",
   "execution_count": 18,
   "id": "studied-savage",
   "metadata": {},
   "outputs": [
    {
     "name": "stdout",
     "output_type": "stream",
     "text": [
      "[[0.51, 1.12, 2.0], [0.37, 0.77, 1.0], [0.62, 0.35, 0.0], [0.62, 0.62, 1.0], [0.62, 0.93, 2.0]]\n"
     ]
    }
   ],
   "source": [
    "# Loading the testing dataset \n",
    "data2 = pd.read_csv(\"testing.csv\")\n",
    "data2.drop('Atom', inplace=True ,axis=1)\n",
    "data2['Type'] = data2['Type'].map({'PT':0 , 'TM': 1 , \"Alk\": 2})\n",
    "dataset2 = data2.reset_index(drop =True)\n",
    "dataset2 = dataset2.values.tolist()\n",
    "print(dataset2)"
   ]
  },
  {
   "cell_type": "code",
   "execution_count": 10,
   "id": "cultural-driving",
   "metadata": {},
   "outputs": [
    {
     "name": "stdout",
     "output_type": "stream",
     "text": [
      "4\n"
     ]
    }
   ],
   "source": [
    "#  Predicting the best k for our model\n",
    "train = dataset\n",
    "test = dataset2\n",
    "k_value_set = [1, 4, 8, 12]\n",
    "\n",
    "num_neighbors = find_optimum_k(train, test, k_value_set)"
   ]
  },
  {
   "cell_type": "code",
   "execution_count": 7,
   "id": "contemporary-switch",
   "metadata": {},
   "outputs": [],
   "source": [
    "k_nearest_neighbors(train, test, 4)"
   ]
  }
 ],
 "metadata": {
  "kernelspec": {
   "display_name": "Python 3",
   "language": "python",
   "name": "python3"
  },
  "language_info": {
   "codemirror_mode": {
    "name": "ipython",
    "version": 3
   },
   "file_extension": ".py",
   "mimetype": "text/x-python",
   "name": "python",
   "nbconvert_exporter": "python",
   "pygments_lexer": "ipython3",
   "version": "3.8.5"
  }
 },
 "nbformat": 4,
 "nbformat_minor": 5
}
